{
 "cells": [
  {
   "cell_type": "markdown",
   "metadata": {},
   "source": [
    "# Detect and Count Fingers"
   ]
  },
  {
   "cell_type": "markdown",
   "metadata": {},
   "source": [
    "## Imports"
   ]
  },
  {
   "cell_type": "code",
   "execution_count": 1,
   "metadata": {},
   "outputs": [],
   "source": [
    "import cv2\n",
    "import numpy as np\n",
    "\n",
    "from sklearn.metrics import pairwise"
   ]
  },
  {
   "cell_type": "markdown",
   "metadata": {},
   "source": [
    "## Global Variables"
   ]
  },
  {
   "cell_type": "code",
   "execution_count": 2,
   "metadata": {},
   "outputs": [],
   "source": [
    "# This background will be a global variable that we update through a few functions\n",
    "background = None\n",
    "\n",
    "# Start with a halfway point between 0 and 1 of accumulated weight\n",
    "accumulated_weight = 0.5\n",
    "\n",
    "# Manually set up our ROI for grabbing the hand.\n",
    "# Feel free to change these. I just chose the top right corner for filming.\n",
    "roi_top = 20\n",
    "roi_bottom = 300\n",
    "roi_right = 300\n",
    "roi_left = 600"
   ]
  },
  {
   "cell_type": "markdown",
   "metadata": {},
   "source": [
    "## Finding Average Background Value  "
   ]
  },
  {
   "cell_type": "code",
   "execution_count": 3,
   "metadata": {},
   "outputs": [],
   "source": [
    "def calc_accum_avg(frame,accumulated_weight):\n",
    "    \n",
    "    #Given a frame and a previous accumulated weight, computed the weighted average of the image passed in.\n",
    "\n",
    "    \n",
    "    global background\n",
    "    \n",
    "    # For first time, create the background from a copy of the frame.\n",
    "    if background is None:\n",
    "        background = frame.copy().astype('float')\n",
    "        return None\n",
    "        \n",
    "    # compute weighted average, accumulate it and update the background\n",
    "    cv2.accumulateWeighted(frame,background,accumulated_weight)"
   ]
  },
  {
   "cell_type": "markdown",
   "metadata": {},
   "source": [
    "## Segment the Hand Region in Frame"
   ]
  },
  {
   "cell_type": "code",
   "execution_count": 4,
   "metadata": {},
   "outputs": [],
   "source": [
    "def segment(frame,threshold_min=25):\n",
    "    global bakkground\n",
    "    \n",
    "    # Calculates the Absolute Differentce between the backgroud and the passed in frame\n",
    "    diff = cv2.absdiff(background.astype('uint8'),frame)\n",
    "    \n",
    "    # Apply a threshold to the image so we can grab the foreground\n",
    "    ret,thresholded = cv2.threshold(diff,threshold_min,255,cv2.THRESH_BINARY)\n",
    "    \n",
    "    # Grab the external contours form the image\n",
    "    image,contours,hierarchy = cv2.findContours(thresholded.copy(),cv2.RETR_EXTERNAL,cv2.CHAIN_APPROX_SIMPLE)\n",
    "    \n",
    "    # If length of contours list is 0, then we didn't grab any contours!\n",
    "    if len(contours) == 0:\n",
    "        return None\n",
    "    \n",
    "    else:\n",
    "        # Given the way we are using the program, the largest external contour should be the hand (largest by area)\n",
    "        # This will be our segment        \n",
    "        hand_segment = max(contours,key=cv2.contourArea)\n",
    "        \n",
    "        # Return both the hand segment and the thresholded hand image        \n",
    "        return (thresholded,hand_segment)"
   ]
  },
  {
   "cell_type": "markdown",
   "metadata": {},
   "source": [
    "## Counting Fingers with a Convex Hull"
   ]
  },
  {
   "cell_type": "code",
   "execution_count": 5,
   "metadata": {},
   "outputs": [],
   "source": [
    "def count_fingers(thresholded,hand_segment):\n",
    "    \n",
    "    conv_hull =cv2.convexHull(hand_segment)\n",
    "    \n",
    "    \n",
    "    # Now the convex hull will have at least 4 most outward points, on the top, bottom, left, and right.\n",
    "    # Let's grab those points by using argmin and argmax. Keep in mind, this would require reading the documentation\n",
    "    # And understanding the general array shape returned by the conv hull.\n",
    "\n",
    "    # Find the top, bottom, left , and right.\n",
    "    # Then make sure they are in tuple format\n",
    "    top    = tuple(conv_hull[conv_hull[:, :, 1].argmin()][0])\n",
    "    bottom = tuple(conv_hull[conv_hull[:, :, 1].argmax()][0])\n",
    "    left   = tuple(conv_hull[conv_hull[:, :, 0].argmin()][0])\n",
    "    right  = tuple(conv_hull[conv_hull[:, :, 0].argmax()][0])\n",
    "    \n",
    "    # In theory, the center of the hand is half way between the top and bottom and halfway between left and right\n",
    "    cX = (left[0] + right[0]) // 2\n",
    "    cY = (top[1] + bottom[1]) // 2\n",
    "    \n",
    "    \n",
    "    # find the maximum euclidean distance between the center of the palm\n",
    "    # and the most extreme points of the convex hull\n",
    "    \n",
    "    # Calculate the Euclidean Distance between the center of the hand and the left, right, top, and bottom.\n",
    "    distance = pairwise.euclidean_distances([(cX, cY)], Y=[left, right, top, bottom])[0]\n",
    "    \n",
    "    max_distance = distance.max()\n",
    "    \n",
    "    radius = int(0.8*max_distance)\n",
    "    circumfrence = (2*np.pi*radius)\n",
    "\n",
    "    # Not grab an ROI of only that circle\n",
    "    circular_roi = np.zeros(thresholded.shape[:2],dtype='uint8')\n",
    "    \n",
    "    cv2.circle(circular_roi,(cX,cY),radius,255,10)\n",
    "    \n",
    "    # Using bit-wise AND with the cirle ROI as a mask.\n",
    "    # This then returns the cut out obtained using the mask on the thresholded hand image.\n",
    "    circular_roi = cv2.bitwise_and(thresholded,thresholded,mask=circular_roi)\n",
    "    \n",
    "    image,contours,hierarchy = cv2.findContours(circular_roi.copy(),cv2.RETR_EXTERNAL,cv2.CHAIN_APPROX_NONE)\n",
    "    \n",
    "    count = 0\n",
    "    \n",
    "    # loop through the contours to see if we count any more fingers.\n",
    "    for cnt in contours:\n",
    "        \n",
    "        # Bounding box of countour\n",
    "        (x,y,w,h) = cv2.boundingRect(cnt)\n",
    "        \n",
    "        # Increment count of fingers based on two conditions:\n",
    "        \n",
    "        # 1. Contour region is not the very bottom of hand area (the wrist)\n",
    "        out_of_wrist = (cY + (cY*0.25)) > (y+h)\n",
    "        \n",
    "        # 2. Number of points along the contour does not exceed 25% of the circumference\n",
    "                #of the circular ROI (otherwise we're counting points off the hand)\n",
    "        limit_points = ((circumfrence*0.25) > cnt.shape[0])\n",
    "        \n",
    "        if out_of_wrist and limit_points:\n",
    "            count += 1\n",
    "            \n",
    "    return count"
   ]
  },
  {
   "cell_type": "markdown",
   "metadata": {},
   "source": [
    "## Run Program"
   ]
  },
  {
   "cell_type": "code",
   "execution_count": 6,
   "metadata": {},
   "outputs": [],
   "source": [
    "cam = cv2.VideoCapture(0)\n",
    "\n",
    "num_frames = 0\n",
    "\n",
    "while True:\n",
    "    \n",
    "    ret, frame = cam.read()\n",
    "    \n",
    "    frame = cv2.flip(frame, 1)\n",
    "    \n",
    "    frame_copy = frame.copy()\n",
    "    \n",
    "    roi = frame[roi_top:roi_bottom,roi_right:roi_left]\n",
    "    \n",
    "    gray = cv2.cvtColor(roi,cv2.COLOR_BGR2GRAY)\n",
    "    \n",
    "    gray = cv2.GaussianBlur(gray,(7,7),0)\n",
    "    \n",
    "    if num_frames < 60:\n",
    "        calc_accum_avg(gray,accumulated_weight)\n",
    "        \n",
    "        if num_frames <= 59:\n",
    "            cv2.putText(frame_copy,'WAIT!! GETTING BACKGROUND',(200,300),cv2.FONT_HERSHEY_SIMPLEX,1,(0,0,255),2)\n",
    "            cv2.imshow('Finger Count',frame_copy)\n",
    "    else:\n",
    "        \n",
    "        hand = segment(gray)\n",
    "        \n",
    "        if hand is not None:\n",
    "            \n",
    "            thresholded , hand_segment = hand\n",
    "            \n",
    "            # DRAWS CONTOURS AROUND REAL HAND IN LIVE STREAM\n",
    "            cv2.drawContours(frame_copy,[hand_segment+(roi_right,roi_top)],-1,(255,0,0),5)\n",
    "            \n",
    "            fingers = count_fingers(thresholded,hand_segment)\n",
    "            \n",
    "            cv2.putText(frame_copy,str(fingers),(70,50),cv2.FONT_HERSHEY_SIMPLEX,1,(0,0,255),2)\n",
    "            \n",
    "            cv2.imshow('Thresholded',thresholded)\n",
    "            \n",
    "    cv2.rectangle(frame_copy,(roi_left,roi_top),(roi_right,roi_bottom),(0,0,255),5)\n",
    "    \n",
    "    num_frames += 1\n",
    "    \n",
    "    cv2.imshow('Finger Count',frame_copy)\n",
    "    \n",
    "    k = cv2.waitKey(1) & 0xFF\n",
    "    \n",
    "    if k == 27:\n",
    "        break\n",
    "        \n",
    "cam.release()\n",
    "cv2.destroyAllWindows()\n",
    "    "
   ]
  }
 ],
 "metadata": {
  "kernelspec": {
   "display_name": "Python 3",
   "language": "python",
   "name": "python3"
  },
  "language_info": {
   "codemirror_mode": {
    "name": "ipython",
    "version": 3
   },
   "file_extension": ".py",
   "mimetype": "text/x-python",
   "name": "python",
   "nbconvert_exporter": "python",
   "pygments_lexer": "ipython3",
   "version": "3.6.10"
  }
 },
 "nbformat": 4,
 "nbformat_minor": 2
}
